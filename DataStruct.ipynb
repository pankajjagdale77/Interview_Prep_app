{
 "cells": [
  {
   "cell_type": "code",
   "execution_count": 29,
   "id": "98d1ea3e",
   "metadata": {},
   "outputs": [],
   "source": [
    "L=[5,4,6,8,5]"
   ]
  },
  {
   "cell_type": "code",
   "execution_count": 30,
   "id": "562ecf7c",
   "metadata": {},
   "outputs": [
    {
     "name": "stdout",
     "output_type": "stream",
     "text": [
      "[5, 4, 6, 8, 5]\n"
     ]
    }
   ],
   "source": [
    "print(L)"
   ]
  },
  {
   "cell_type": "code",
   "execution_count": 31,
   "id": "75351ff4",
   "metadata": {},
   "outputs": [],
   "source": [
    "L.insert(3,3)"
   ]
  },
  {
   "cell_type": "code",
   "execution_count": 32,
   "id": "2780b366",
   "metadata": {},
   "outputs": [
    {
     "data": {
      "text/plain": [
       "5"
      ]
     },
     "execution_count": 32,
     "metadata": {},
     "output_type": "execute_result"
    }
   ],
   "source": [
    "L.pop()"
   ]
  },
  {
   "cell_type": "code",
   "execution_count": 33,
   "id": "2dccf20b",
   "metadata": {},
   "outputs": [
    {
     "data": {
      "text/plain": [
       "[5, 4, 6, 3, 8]"
      ]
     },
     "execution_count": 33,
     "metadata": {},
     "output_type": "execute_result"
    }
   ],
   "source": [
    "L"
   ]
  },
  {
   "cell_type": "code",
   "execution_count": 34,
   "id": "ee652eba",
   "metadata": {},
   "outputs": [],
   "source": [
    "L.append(12)"
   ]
  },
  {
   "cell_type": "code",
   "execution_count": 35,
   "id": "42c0ea52",
   "metadata": {},
   "outputs": [
    {
     "data": {
      "text/plain": [
       "[5, 4, 6, 3, 8, 12]"
      ]
     },
     "execution_count": 35,
     "metadata": {},
     "output_type": "execute_result"
    }
   ],
   "source": [
    "L"
   ]
  },
  {
   "cell_type": "code",
   "execution_count": 36,
   "id": "1df1562c",
   "metadata": {},
   "outputs": [],
   "source": [
    "L.remove(8)"
   ]
  },
  {
   "cell_type": "code",
   "execution_count": 37,
   "id": "c4e456fe",
   "metadata": {},
   "outputs": [
    {
     "data": {
      "text/plain": [
       "[5, 4, 6, 3, 12]"
      ]
     },
     "execution_count": 37,
     "metadata": {},
     "output_type": "execute_result"
    }
   ],
   "source": [
    "L"
   ]
  },
  {
   "cell_type": "code",
   "execution_count": 38,
   "id": "6b289108",
   "metadata": {},
   "outputs": [
    {
     "data": {
      "text/plain": [
       "4"
      ]
     },
     "execution_count": 38,
     "metadata": {},
     "output_type": "execute_result"
    }
   ],
   "source": [
    "L.pop(1)"
   ]
  },
  {
   "cell_type": "code",
   "execution_count": 39,
   "id": "cc6dabda",
   "metadata": {},
   "outputs": [],
   "source": [
    "del L[1]"
   ]
  },
  {
   "cell_type": "code",
   "execution_count": 40,
   "id": "9f5ac2fb",
   "metadata": {},
   "outputs": [
    {
     "data": {
      "text/plain": [
       "[5, 3, 12]"
      ]
     },
     "execution_count": 40,
     "metadata": {},
     "output_type": "execute_result"
    }
   ],
   "source": [
    "L"
   ]
  },
  {
   "cell_type": "code",
   "execution_count": 41,
   "id": "4449bc21",
   "metadata": {},
   "outputs": [
    {
     "data": {
      "text/plain": [
       "[5, 3, 12]"
      ]
     },
     "execution_count": 41,
     "metadata": {},
     "output_type": "execute_result"
    }
   ],
   "source": [
    "L"
   ]
  },
  {
   "cell_type": "code",
   "execution_count": null,
   "id": "8f661672",
   "metadata": {},
   "outputs": [],
   "source": []
  },
  {
   "cell_type": "code",
   "execution_count": 46,
   "id": "38409e66",
   "metadata": {},
   "outputs": [],
   "source": [
    "#Reverse a list in python "
   ]
  },
  {
   "cell_type": "code",
   "execution_count": 47,
   "id": "5382b0f6",
   "metadata": {},
   "outputs": [
    {
     "name": "stdout",
     "output_type": "stream",
     "text": [
      "[89, 78, 23, 41, 60, 25, 30, 20]\n"
     ]
    }
   ],
   "source": [
    "L=[20,30,25,60,41,23,78,89]\n",
    "L=L[::-1]\n",
    "print(L)"
   ]
  },
  {
   "cell_type": "code",
   "execution_count": 48,
   "id": "f810b9b1",
   "metadata": {},
   "outputs": [
    {
     "data": {
      "text/plain": [
       "[89, 78, 23, 41, 60, 25, 30, 20]"
      ]
     },
     "execution_count": 48,
     "metadata": {},
     "output_type": "execute_result"
    }
   ],
   "source": [
    "L=[20,30,25,60,41,23,78,89]\n",
    "L.reverse()\n",
    "L"
   ]
  },
  {
   "cell_type": "code",
   "execution_count": 49,
   "id": "ba1c2c4f",
   "metadata": {},
   "outputs": [],
   "source": [
    "#Concatenate two lists index-wise"
   ]
  },
  {
   "cell_type": "code",
   "execution_count": 50,
   "id": "c31b6c51",
   "metadata": {},
   "outputs": [
    {
     "name": "stdout",
     "output_type": "stream",
     "text": [
      "[20, 30, 25, 60, 41, 23, 78, 89, 89, 78, 23, 41, 60, 25, 30, 20]\n"
     ]
    }
   ],
   "source": [
    "L1=[20,30,25,60,41,23,78,89]\n",
    "L2=[89, 78, 23, 41, 60, 25, 30, 20]\n",
    "L3=L1+L2\n",
    "print(L3)"
   ]
  },
  {
   "cell_type": "code",
   "execution_count": 55,
   "id": "44d77220",
   "metadata": {},
   "outputs": [
    {
     "name": "stdout",
     "output_type": "stream",
     "text": [
      "[20, 30, 25, 60, 41, 23, 78, 89, 89, 78, 23, 41, 60, 25, 30, 20]\n"
     ]
    }
   ],
   "source": [
    "L1=[20,30,25,60,41,23,78,89]\n",
    "L2=[89, 78, 23, 41, 60, 25, 30, 20]\n",
    "L1.extend(L2)\n",
    "print(L1)"
   ]
  },
  {
   "cell_type": "code",
   "execution_count": 71,
   "id": "7822d40d",
   "metadata": {},
   "outputs": [
    {
     "name": "stdout",
     "output_type": "stream",
     "text": [
      "['My', 'name', 'is', 'Kelly']\n"
     ]
    }
   ],
   "source": [
    "list1 = [\"M\", \"na\", \"i\", \"Ke\"]\n",
    "list2 = [\"y\", \"me\", \"s\", \"lly\"]\n",
    "list3=[i+j for i, j in zip(list1,list2)]\n",
    "print(list3)\n"
   ]
  },
  {
   "cell_type": "code",
   "execution_count": 72,
   "id": "0cf11884",
   "metadata": {},
   "outputs": [],
   "source": [
    "#Turn every item of a list into its square"
   ]
  },
  {
   "cell_type": "code",
   "execution_count": 79,
   "id": "caef8a39",
   "metadata": {},
   "outputs": [
    {
     "name": "stdout",
     "output_type": "stream",
     "text": [
      "[1, 4, 9, 16, 25, 36, 49]\n"
     ]
    }
   ],
   "source": [
    "numbers = [1, 2, 3, 4, 5, 6, 7]\n",
    "list1=[]\n",
    "for i in numbers:\n",
    "    numbers=i*i\n",
    "    list1.append(numbers)\n",
    "print(list1)"
   ]
  },
  {
   "cell_type": "code",
   "execution_count": 90,
   "id": "956359e4",
   "metadata": {},
   "outputs": [
    {
     "name": "stdout",
     "output_type": "stream",
     "text": [
      "[1, 4, 9, 16, 25, 36, 49]\n"
     ]
    }
   ],
   "source": [
    "numbers = [1, 2, 3, 4, 5, 6, 7]\n",
    "numbers=[i*i for i in numbers]\n",
    "print(numbers)"
   ]
  },
  {
   "cell_type": "code",
   "execution_count": 91,
   "id": "7a498069",
   "metadata": {},
   "outputs": [],
   "source": [
    "#Concatenate two lists in the following order"
   ]
  },
  {
   "cell_type": "code",
   "execution_count": 109,
   "id": "69c6b8cd",
   "metadata": {},
   "outputs": [
    {
     "name": "stdout",
     "output_type": "stream",
     "text": [
      "['Hello Dear', 'Hello Sir', 'take Dear', 'take Sir']\n"
     ]
    }
   ],
   "source": [
    "list1 = [\"Hello \", \"take \"]\n",
    "list2 = [\"Dear\", \"Sir\"]\n",
    "list3=[i+j for i in list1 for j in list2]\n",
    "print(list3)"
   ]
  },
  {
   "cell_type": "code",
   "execution_count": 114,
   "id": "e0b282ad",
   "metadata": {},
   "outputs": [
    {
     "name": "stdout",
     "output_type": "stream",
     "text": [
      "['Hello Dear', 'Hello Sir', 'take Dear', 'take Sir']\n"
     ]
    }
   ],
   "source": [
    "list1 = [\"Hello \", \"take \"]\n",
    "list2 = [\"Dear\", \"Sir\"]\n",
    "list3=[]\n",
    "for i in list1:\n",
    "    for j in list2:\n",
    "        list3=list3+[i+j]\n",
    "print(list3)"
   ]
  },
  {
   "cell_type": "code",
   "execution_count": 115,
   "id": "c01a1e7a",
   "metadata": {},
   "outputs": [],
   "source": [
    "#Iterate both lists simultaneously"
   ]
  },
  {
   "cell_type": "code",
   "execution_count": 116,
   "id": "458f4ecb",
   "metadata": {},
   "outputs": [
    {
     "name": "stdout",
     "output_type": "stream",
     "text": [
      "10 400\n",
      "10 300\n",
      "10 200\n",
      "10 100\n",
      "20 400\n",
      "20 300\n",
      "20 200\n",
      "20 100\n",
      "30 400\n",
      "30 300\n",
      "30 200\n",
      "30 100\n",
      "40 400\n",
      "40 300\n",
      "40 200\n",
      "40 100\n"
     ]
    }
   ],
   "source": [
    "list1 = [10, 20, 30, 40]\n",
    "list2 = [100, 200, 300, 400]\n",
    "for i in list1:\n",
    "    for j in list2[::-1]:\n",
    "        print(i,j)"
   ]
  },
  {
   "cell_type": "code",
   "execution_count": 117,
   "id": "5c553ffa",
   "metadata": {},
   "outputs": [
    {
     "name": "stdout",
     "output_type": "stream",
     "text": [
      "10 400\n",
      "20 300\n",
      "30 200\n",
      "40 100\n"
     ]
    }
   ],
   "source": [
    "list1 = [10, 20, 30, 40]\n",
    "list2 = [100, 200, 300, 400]\n",
    "list3=[print(i,j) for i,j in zip(list1,list2[::-1])]"
   ]
  },
  {
   "cell_type": "code",
   "execution_count": 118,
   "id": "b95a6ef6",
   "metadata": {},
   "outputs": [],
   "source": [
    "#Remove empty strings from the list of strings"
   ]
  },
  {
   "cell_type": "code",
   "execution_count": 123,
   "id": "950bb0b9",
   "metadata": {},
   "outputs": [
    {
     "name": "stdout",
     "output_type": "stream",
     "text": [
      "['Mike', 'Emma', 'Kelly', 'Brad']\n"
     ]
    }
   ],
   "source": [
    "list1 = [\"Mike\", \"\", \"Emma\", \"Kelly\", \"\", \"Brad\"]\n",
    "list2=list(filter(None,list1))\n",
    "print(list2)"
   ]
  },
  {
   "cell_type": "code",
   "execution_count": 124,
   "id": "c67e4686",
   "metadata": {},
   "outputs": [],
   "source": [
    "#Add new item to list after a specified item\n",
    "#Write a program to add item 7000 after 6000 in the following Python List"
   ]
  },
  {
   "cell_type": "code",
   "execution_count": 134,
   "id": "16a4aea9",
   "metadata": {},
   "outputs": [
    {
     "name": "stdout",
     "output_type": "stream",
     "text": [
      "[10, 20, [300, 400, [5000, 6000, 7000], 500], 30, 40]\n"
     ]
    }
   ],
   "source": [
    "list1 = [10, 20, [300, 400, [5000, 6000], 500], 30, 40]\n",
    "list1[2]\n",
    "list1[2][2]\n",
    "list1[2][2].append(7000)\n",
    "print(list1)"
   ]
  },
  {
   "cell_type": "code",
   "execution_count": 135,
   "id": "78adeaf0",
   "metadata": {},
   "outputs": [],
   "source": [
    "#Extend nested list by adding the sublist"
   ]
  },
  {
   "cell_type": "code",
   "execution_count": 137,
   "id": "2e4cc378",
   "metadata": {},
   "outputs": [
    {
     "name": "stdout",
     "output_type": "stream",
     "text": [
      "['a', 'b', ['c', ['d', 'e', ['f', 'g', 'h', 'i', 'j'], 'k'], 'l'], 'm', 'n']\n"
     ]
    }
   ],
   "source": [
    "list1 = [\"a\", \"b\", [\"c\", [\"d\", \"e\", [\"f\", \"g\"], \"k\"], \"l\"], \"m\", \"n\"]\n",
    "\n",
    "# sub list to add\n",
    "sub_list = [\"h\", \"i\", \"j\"]\n",
    "list1[2][1][2].extend(sub_list)\n",
    "print(list1)"
   ]
  },
  {
   "cell_type": "code",
   "execution_count": 138,
   "id": "641d763a",
   "metadata": {},
   "outputs": [],
   "source": [
    "#Replace list’s item with new value if found"
   ]
  },
  {
   "cell_type": "raw",
   "id": "e4870798",
   "metadata": {},
   "source": [
    "You have given a Python list. Write a program to find value 20 in the list, and if it is present,\n",
    "replace it with 200. Only update the first occurrence of an item."
   ]
  },
  {
   "cell_type": "code",
   "execution_count": 144,
   "id": "2f4e359e",
   "metadata": {},
   "outputs": [
    {
     "name": "stdout",
     "output_type": "stream",
     "text": [
      "[5, 10, 15, 200, 25, 50, 20]\n"
     ]
    }
   ],
   "source": [
    "list1 = [5, 10, 15, 20, 25, 50, 20]\n",
    "list1.index(20)\n",
    "list1[3]=200\n",
    "print(list1)"
   ]
  },
  {
   "cell_type": "code",
   "execution_count": 145,
   "id": "f8df205a",
   "metadata": {},
   "outputs": [],
   "source": [
    "#Remove all occurrences of a specific item from a list"
   ]
  },
  {
   "cell_type": "code",
   "execution_count": 2,
   "id": "d57c2f4d",
   "metadata": {},
   "outputs": [
    {
     "name": "stdout",
     "output_type": "stream",
     "text": [
      "[5, 15, 25, 50]\n"
     ]
    }
   ],
   "source": [
    "list1 = [5, 20, 15, 20, 25, 50, 20]\n",
    "list2=[]\n",
    "for i in list1:\n",
    "    if i!=20:\n",
    "        list2.append(i)\n",
    "print(list2)"
   ]
  },
  {
   "cell_type": "code",
   "execution_count": 3,
   "id": "1394d0fc",
   "metadata": {},
   "outputs": [
    {
     "name": "stdout",
     "output_type": "stream",
     "text": [
      "[5, 15, 25, 50]\n"
     ]
    }
   ],
   "source": [
    "list1 = [5, 20, 15, 20, 25, 50, 20]\n",
    "\n",
    "while 20 in list1:\n",
    "    list1.remove(20)\n",
    "print(list1)"
   ]
  },
  {
   "cell_type": "code",
   "execution_count": null,
   "id": "08a12601",
   "metadata": {},
   "outputs": [],
   "source": []
  }
 ],
 "metadata": {
  "kernelspec": {
   "display_name": "Python 3 (ipykernel)",
   "language": "python",
   "name": "python3"
  },
  "language_info": {
   "codemirror_mode": {
    "name": "ipython",
    "version": 3
   },
   "file_extension": ".py",
   "mimetype": "text/x-python",
   "name": "python",
   "nbconvert_exporter": "python",
   "pygments_lexer": "ipython3",
   "version": "3.10.8"
  }
 },
 "nbformat": 4,
 "nbformat_minor": 5
}
